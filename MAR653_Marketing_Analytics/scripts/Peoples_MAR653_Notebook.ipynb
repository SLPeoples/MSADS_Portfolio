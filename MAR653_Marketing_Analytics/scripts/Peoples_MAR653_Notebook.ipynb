{
 "cells": [
  {
   "cell_type": "code",
   "execution_count": 1,
   "metadata": {
    "collapsed": true
   },
   "outputs": [],
   "source": [
    "import pandas as pd\n",
    "data = pd.read_excel('./Complete Journey.xlsx', sheet_name = 'one-hot')"
   ]
  },
  {
   "cell_type": "code",
   "execution_count": 2,
   "metadata": {},
   "outputs": [
    {
     "data": {
      "image/png": "[encoded data removed]",
      "text/plain": [
       "<Figure size 432x288 with 1 Axes>"
      ]
     },
     "metadata": {},
     "output_type": "display_data"
    }
   ],
   "source": [
    "import numpy as np\n",
    "from sklearn.cluster import KMeans\n",
    "import matplotlib.pyplot as plt\n",
    "\n",
    "\n",
    "\n",
    "values = {'quantity': 0, 'sales value': 0\n",
    "          , 'Price': 0, 'COUPON_DISCOUNT': 0,\n",
    "         'num_national':0,'dh_coupon_redeemed':0,\n",
    "         'value of dh coupon':0}\n",
    "\n",
    "data = data.fillna(value=values)\n",
    "\n",
    "x = data.iloc[:,1:40]\n",
    "\n",
    "wcss = []\n",
    "for i in range(1, 11):\n",
    "    kmeans = KMeans(n_clusters = i, init = 'k-means++', random_state = 42)\n",
    "    kmeans.fit(x)\n",
    "    wcss.append(kmeans.inertia_)\n",
    "plt.plot(range(1, 11), wcss)\n",
    "plt.title('The Elbow Method')\n",
    "plt.xlabel('Number of clusters')\n",
    "plt.ylabel('WCSS')\n",
    "plt.show()"
   ]
  },
  {
   "cell_type": "code",
   "execution_count": null,
   "metadata": {
    "collapsed": true
   },
   "outputs": [],
   "source": [
    "km = KMeans(n_clusters = 3, init = 'k-means++')\n",
    "data['Cluster'] = km.fit_predict(x)\n",
    "data.to_csv('./Complete_Journey_Clustered_Cat.csv')"
   ]
  },
  {
   "cell_type": "code",
   "execution_count": null,
   "metadata": {
    "collapsed": true
   },
   "outputs": [],
   "source": [
    "x.to_csv('./one-hot.csv')"
   ]
  },
  {
   "cell_type": "code",
   "execution_count": 1,
   "metadata": {
    "collapsed": true
   },
   "outputs": [],
   "source": [
    "import pandas as pd\n",
    "data = pd.read_excel('./Complete Journey.xlsx', sheet_name = 'original')\n",
    "cluster0 = data[data['Cluster']==0]\n",
    "cluster1 = data[data['Cluster']==1]\n",
    "cluster2 = data[data['Cluster']==2]\n",
    "\n",
    "cluster0_tran = []\n",
    "for item in cluster0['household_key'].unique():\n",
    "    tmp = cluster0[cluster0['household_key']==item]\n",
    "    tmp_tran = []\n",
    "    for index, row in tmp.iterrows():\n",
    "        for i in range(row['quantity']):\n",
    "            if row['category'] not in tmp_tran:\n",
    "                tmp_tran.append(row['category'])\n",
    "    cluster0_tran.append(tmp_tran)\n",
    "cluster1_tran = []\n",
    "for item in cluster1['household_key'].unique():\n",
    "    tmp = cluster1[cluster1['household_key']==item]\n",
    "    tmp_tran = []\n",
    "    for index, row in tmp.iterrows():\n",
    "        for i in range(row['quantity']):\n",
    "            if row['category'] not in tmp_tran:\n",
    "                tmp_tran.append(row['category'])\n",
    "    cluster1_tran.append(tmp_tran)\n",
    "    \n",
    "cluster2_tran = []\n",
    "for item in cluster2['household_key'].unique():\n",
    "    tmp = cluster2[cluster2['household_key']==item]\n",
    "    tmp_tran = []\n",
    "    for index, row in tmp.iterrows():\n",
    "        for i in range(row['quantity']):\n",
    "            if row['category'] not in tmp_tran:\n",
    "                tmp_tran.append(row['category'])\n",
    "    cluster2_tran.append(tmp_tran)"
   ]
  },
  {
   "cell_type": "code",
   "execution_count": 4,
   "metadata": {
    "collapsed": true
   },
   "outputs": [],
   "source": [
    "from efficient_apriori import apriori\n",
    "\n",
    "itemsets_2, rules_2 = apriori(cluster2_tran, min_support=0.05,  min_confidence=.2)\n",
    "\n",
    "rules_rhs = filter(lambda rule: len(rule.lhs) == 2 and len(rule.rhs) == 1, rules_2)\n",
    "with open('rules_cluster2.txt', 'a') as the_file:\n",
    "    for rule in sorted(rules_rhs, key=lambda rule: rule.lift):\n",
    "        the_file.write(str(rule)+'\\n')"
   ]
  },
  {
   "cell_type": "code",
   "execution_count": 3,
   "metadata": {
    "collapsed": true
   },
   "outputs": [],
   "source": [
    "from efficient_apriori import apriori\n",
    "\n",
    "itemsets_1, rules_1 = apriori(cluster1_tran, min_support=0.05,  min_confidence=.2)\n",
    "rules_rhs = filter(lambda rule: len(rule.lhs) == 2 and len(rule.rhs) == 1, rules_1)\n",
    "with open('rules_cluster1.txt', 'a') as the_file:\n",
    "    for rule in sorted(rules_rhs, key=lambda rule: rule.lift):\n",
    "        the_file.write(str(rule)+'\\n')"
   ]
  },
  {
   "cell_type": "code",
   "execution_count": 7,
   "metadata": {
    "collapsed": true
   },
   "outputs": [],
   "source": [
    "from efficient_apriori import apriori\n",
    "itemsets_0, rules_0 = apriori(cluster0_tran, min_support=0.5,  min_confidence=.2)\n",
    "rules_rhs = filter(lambda rule: len(rule.lhs) == 2 and len(rule.rhs) == 1, rules_0)\n",
    "with open('rules_cluster0.txt', 'a') as the_file:\n",
    "    for rule in sorted(rules_rhs, key=lambda rule: rule.lift):\n",
    "        the_file.write(str(rule)+'\\n')"
   ]
  },
  {
   "cell_type": "code",
   "execution_count": null,
   "metadata": {
    "collapsed": true
   },
   "outputs": [],
   "source": []
  }
 ],
 "metadata": {
  "kernelspec": {
   "display_name": "Python 3",
   "language": "python",
   "name": "python3"
  },
  "language_info": {
   "codemirror_mode": {
    "name": "ipython",
    "version": 3
   },
   "file_extension": ".py",
   "mimetype": "text/x-python",
   "name": "python",
   "nbconvert_exporter": "python",
   "pygments_lexer": "ipython3",
   "version": "3.6.3"
  }
 },
 "nbformat": 4,
 "nbformat_minor": 2
}
